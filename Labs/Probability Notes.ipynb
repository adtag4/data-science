{
 "cells": [
  {
   "cell_type": "markdown",
   "metadata": {},
   "source": [
    "# Probability - Lsn 8\n",
    "#### C1C Albert Taglieri\n",
    "\n",
    "Multiplication Rule\n",
    "    \n",
    "    In first step we can do n, and in second step m, then the toal number of\n",
    "    ways to complete is n*m.\n",
    "    \n",
    "The next question to ask is if replacement and order matter.\n",
    "\n",
    "1. Order matters (or not)\n",
    "2. Replacement (or not)\n",
    "\n",
    "                       Order\n",
    "                Matters      Doesn't\n",
    "             Y | we do (n^r)|  we don't do\n",
    "        Rep.   |            |\n",
    "             N | permutation| combination /n\\\n",
    "                                          \\r/ = n!/((n-r)!r!) - notation means 'n choose r'\n",
    "                                          \n",
    "How many ways to arrange MISSISSIPPI?\n",
    "11! / (2! * 4! * 4!) = 34650; there are letters repeating that order doesn't matter for (2P, 4S, 4I)\n",
    "\n",
    "## Setting up probability calculations in python\n",
    "The function evaulates the probability by checking the amount of cases, and the amount of favorable cases"
   ]
  },
  {
   "cell_type": "code",
   "execution_count": 5,
   "metadata": {},
   "outputs": [],
   "source": [
    "import datascience as ds\n",
    "import numpy as np\n",
    "from fractions import Fraction\n",
    "\n",
    "def P(event, space):\n",
    "    return Fraction(cases(favorable(event, space)),\n",
    "                   cases(space))\n",
    "\n",
    "favorable = set.intersection\n",
    "cases = len"
   ]
  },
  {
   "cell_type": "markdown",
   "metadata": {},
   "source": [
    "Here's a temp list to work with"
   ]
  },
  {
   "cell_type": "code",
   "execution_count": 6,
   "metadata": {},
   "outputs": [
    {
     "data": {
      "text/plain": [
       "[1, 3, 3, 4]"
      ]
     },
     "execution_count": 6,
     "metadata": {},
     "output_type": "execute_result"
    }
   ],
   "source": [
    "temp_list = [1,3,3,4]\n",
    "temp_list"
   ]
  },
  {
   "cell_type": "code",
   "execution_count": 7,
   "metadata": {},
   "outputs": [
    {
     "data": {
      "text/plain": [
       "{1, 3, 4}"
      ]
     },
     "execution_count": 7,
     "metadata": {},
     "output_type": "execute_result"
    }
   ],
   "source": [
    "temp_set = set(temp_list)\n",
    "temp_set"
   ]
  },
  {
   "cell_type": "markdown",
   "metadata": {},
   "source": [
    "## Warmup: Die Roll\n",
    "What is the probability of rolling an even number with a signle six-sided fair die?"
   ]
  },
  {
   "cell_type": "code",
   "execution_count": 8,
   "metadata": {},
   "outputs": [
    {
     "data": {
      "text/plain": [
       "Fraction(1, 2)"
      ]
     },
     "execution_count": 8,
     "metadata": {},
     "output_type": "execute_result"
    }
   ],
   "source": [
    "D = {1, 2, 3, 4, 5, 6}\n",
    "even = {2, 4, 6}\n",
    "P(even, D)"
   ]
  },
  {
   "cell_type": "code",
   "execution_count": 9,
   "metadata": {},
   "outputs": [
    {
     "data": {
      "text/plain": [
       "Fraction(1, 2)"
      ]
     },
     "execution_count": 9,
     "metadata": {},
     "output_type": "execute_result"
    }
   ],
   "source": [
    "prime = {2, 3, 5, 7, 11, 13}\n",
    "odd = {1, 3, 5, 7, 9, 11, 13}\n",
    "P(odd, D)"
   ]
  },
  {
   "cell_type": "markdown",
   "metadata": {},
   "source": [
    "What about the probability of even or odd?"
   ]
  },
  {
   "cell_type": "code",
   "execution_count": 11,
   "metadata": {},
   "outputs": [
    {
     "data": {
      "text/plain": [
       "Fraction(1, 1)"
      ]
     },
     "execution_count": 11,
     "metadata": {},
     "output_type": "execute_result"
    }
   ],
   "source": [
    "P(even | odd, D)"
   ]
  },
  {
   "cell_type": "markdown",
   "metadata": {},
   "source": [
    "What about being prime while even, and then prime while odd?"
   ]
  },
  {
   "cell_type": "code",
   "execution_count": 12,
   "metadata": {},
   "outputs": [
    {
     "data": {
      "text/plain": [
       "Fraction(2, 3)"
      ]
     },
     "execution_count": 12,
     "metadata": {},
     "output_type": "execute_result"
    }
   ],
   "source": [
    "P(even | prime, D)\n",
    "P(odd | prime, D)"
   ]
  },
  {
   "cell_type": "markdown",
   "metadata": {},
   "source": [
    "We know that conditional probability is defined as\n",
    "P(A|B) = P(A intersect B) / P(B)\n",
    "So use this to calculate the probability that a die roll is odd, given that it is prime.\n",
    "Then use the union rule of P(A U B) = P(A) + P(B) - P(A intersect B) to calculate even or prime."
   ]
  },
  {
   "cell_type": "code",
   "execution_count": 13,
   "metadata": {},
   "outputs": [
    {
     "data": {
      "text/plain": [
       "Fraction(2, 3)"
      ]
     },
     "execution_count": 13,
     "metadata": {},
     "output_type": "execute_result"
    }
   ],
   "source": [
    "P(set.intersection(prime, odd), D)/P(prime, D)"
   ]
  },
  {
   "cell_type": "code",
   "execution_count": 14,
   "metadata": {},
   "outputs": [
    {
     "data": {
      "text/plain": [
       "Fraction(5, 6)"
      ]
     },
     "execution_count": 14,
     "metadata": {},
     "output_type": "execute_result"
    }
   ],
   "source": [
    "P(even, D) + P(prime, D) - P(set.intersection(even, prime), D)"
   ]
  },
  {
   "cell_type": "markdown",
   "metadata": {},
   "source": [
    "Mutual exclusion is when there is no outcomes in common: P(A intersect B) = 0.\n",
    "Find the probabiliity that the roll is even and odd."
   ]
  },
  {
   "cell_type": "code",
   "execution_count": 15,
   "metadata": {},
   "outputs": [
    {
     "data": {
      "text/plain": [
       "Fraction(0, 1)"
      ]
     },
     "execution_count": 15,
     "metadata": {},
     "output_type": "execute_result"
    }
   ],
   "source": [
    "P(set.intersection(even, odd), D)"
   ]
  },
  {
   "cell_type": "markdown",
   "metadata": {},
   "source": [
    "Independence is when the probability of an event is unchanged by the occurence of another event.  Thus, P(A|B) = P(A).\n",
    "Is P(greater than 4) independent of P(odd)?"
   ]
  },
  {
   "cell_type": "code",
   "execution_count": 18,
   "metadata": {},
   "outputs": [
    {
     "data": {
      "text/plain": [
       "Fraction(1, 3)"
      ]
     },
     "execution_count": 18,
     "metadata": {},
     "output_type": "execute_result"
    }
   ],
   "source": [
    "# first, find P(A|B)\n",
    "gt4 = {5, 6}\n",
    "P(set.intersection(odd, gt4), D)/P(odd, D)"
   ]
  },
  {
   "cell_type": "code",
   "execution_count": 20,
   "metadata": {},
   "outputs": [
    {
     "data": {
      "text/plain": [
       "Fraction(1, 3)"
      ]
     },
     "execution_count": 20,
     "metadata": {},
     "output_type": "execute_result"
    }
   ],
   "source": [
    "# now find P(gt4)\n",
    "P(gt4, D)"
   ]
  },
  {
   "cell_type": "markdown",
   "metadata": {},
   "source": [
    "They are both 1/3, and thus the two events are independent of one another.\n",
    "\n",
    "## Card Problems\n",
    "Consider a hand of 5 playing cards.  Cardsa have rank and suit, and a deck has 52 cards. "
   ]
  },
  {
   "cell_type": "code",
   "execution_count": 22,
   "metadata": {},
   "outputs": [
    {
     "data": {
      "text/plain": [
       "52"
      ]
     },
     "execution_count": 22,
     "metadata": {},
     "output_type": "execute_result"
    }
   ],
   "source": [
    "suits = u'♥♦♣♠'\n",
    "ranks = u'AKQJT98765432'\n",
    "deck = [r + s for r in ranks for s in suits]\n",
    "len(deck)"
   ]
  },
  {
   "cell_type": "markdown",
   "metadata": {},
   "source": [
    "The next step is to define 'Hands' as all the possible 5 card combinations that exist."
   ]
  },
  {
   "cell_type": "code",
   "execution_count": 23,
   "metadata": {},
   "outputs": [
    {
     "data": {
      "text/plain": [
       "2598960"
      ]
     },
     "execution_count": 23,
     "metadata": {},
     "output_type": "execute_result"
    }
   ],
   "source": [
    "import itertools\n",
    "\n",
    "def combos(items, n):\n",
    "    return set(map(' '.join, itertools.combinations(items, n)))\n",
    "               \n",
    "Hands = combos(deck, 5)\n",
    "len(Hands)"
   ]
  },
  {
   "cell_type": "code",
   "execution_count": null,
   "metadata": {},
   "outputs": [],
   "source": []
  }
 ],
 "metadata": {
  "kernelspec": {
   "display_name": "Python 3",
   "language": "python",
   "name": "python3"
  },
  "language_info": {
   "codemirror_mode": {
    "name": "ipython",
    "version": 3
   },
   "file_extension": ".py",
   "mimetype": "text/x-python",
   "name": "python",
   "nbconvert_exporter": "python",
   "pygments_lexer": "ipython3",
   "version": "3.6.5"
  }
 },
 "nbformat": 4,
 "nbformat_minor": 2
}
