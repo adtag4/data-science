{
 "cells": [
  {
   "cell_type": "code",
   "execution_count": 5,
   "metadata": {},
   "outputs": [],
   "source": [
    "from datascience import *\n",
    "import numpy as np\n",
    "from math import *\n",
    "from scipy import stats"
   ]
  },
  {
   "cell_type": "markdown",
   "metadata": {},
   "source": [
    "# Lesson 28\n",
    "\n",
    "Some Population moments\n",
    "\n",
    "E(X) = first moment about the origin\n",
    "\n",
    "E(X^2) = second moment about the the origin\n",
    "\n",
    "E((X-mu)^2) = second moment about the mean\n",
    "\n",
    "Now, for samples, it is slightly different.\n",
    "\n",
    "m1 = 1/n * SUM\\[Xi\\] is the first sample moment about the origin\n",
    "\n",
    "Then, we set equal to the population and solve for the parameter.\n",
    "\n",
    "If two parameters, then we add the second moment as well.\n",
    "\n",
    "m2 = 1/n * SUM\\[Xi^2\\]\n",
    "\n",
    "m2* = 1/n * SUM\\[(Xi-X_bar)^2\\] = (n-1)/n * S^2"
   ]
  },
  {
   "cell_type": "markdown",
   "metadata": {},
   "source": [
    "Example, with an exponential distribution, we have unknown parameter lambda.\n",
    "\n",
    "Then, we know that E(X) = 1/lambda.\n",
    "\n",
    "Therefore, for a sample, we set E(x) = x_bar, thus lambda_hat = 1/x_bar.\n",
    "\n",
    "We have an experimentally acquired parameter for the distribution (estimate)"
   ]
  },
  {
   "cell_type": "markdown",
   "metadata": {},
   "source": [
    "E(X^2) = integrate(x^2 \\* lam \\* e^(-lam\\*x) dx) from 0 to INF (for exponential distribution)"
   ]
  },
  {
   "cell_type": "markdown",
   "metadata": {},
   "source": [
    "Best = minimum variance, unbiased (to determine quality of estimators)"
   ]
  },
  {
   "cell_type": "markdown",
   "metadata": {},
   "source": [
    "Example 2 from notebook:\n",
    "\n",
    "Given uniform distribution from 0 -> b, and samples (0.2,0.4,0.3,0.9,0.4), what is the estimated parameter b?\n",
    "\n",
    "I'm pretty sure that for unif(a, b), E(X) = (b-a)/2.  So, for a = 0, then E(X) = b/2.  Thus, b = x_bar\\*2."
   ]
  },
  {
   "cell_type": "code",
   "execution_count": 6,
   "metadata": {},
   "outputs": [
    {
     "data": {
      "text/plain": [
       "0.8800000000000001"
      ]
     },
     "execution_count": 6,
     "metadata": {},
     "output_type": "execute_result"
    }
   ],
   "source": [
    "sample = make_array(.2, .4, .3, .9, .4)\n",
    "mean = np.mean(sample)\n",
    "b = mean*2\n",
    "b"
   ]
  },
  {
   "cell_type": "markdown",
   "metadata": {},
   "source": [
    "The estimate is incorrect as there is a member of the sample that falls outside of the proposed range."
   ]
  },
  {
   "cell_type": "code",
   "execution_count": null,
   "metadata": {},
   "outputs": [],
   "source": []
  }
 ],
 "metadata": {
  "kernelspec": {
   "display_name": "Python 3",
   "language": "python",
   "name": "python3"
  },
  "language_info": {
   "codemirror_mode": {
    "name": "ipython",
    "version": 3
   },
   "file_extension": ".py",
   "mimetype": "text/x-python",
   "name": "python",
   "nbconvert_exporter": "python",
   "pygments_lexer": "ipython3",
   "version": "3.6.5"
  }
 },
 "nbformat": 4,
 "nbformat_minor": 2
}
