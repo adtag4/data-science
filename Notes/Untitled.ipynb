{
 "cells": [
  {
   "cell_type": "code",
   "execution_count": 1,
   "metadata": {},
   "outputs": [],
   "source": [
    "from random import randint"
   ]
  },
  {
   "cell_type": "code",
   "execution_count": 21,
   "metadata": {},
   "outputs": [],
   "source": [
    "default_list = [1, 0, 1, 0, 1, 0, 1, 0]\n",
    "\n",
    "def remove_index(index, l):\n",
    "    length = len(l)\n",
    "    new_l = []\n",
    "    i = 0\n",
    "    while(i < length):\n",
    "        if(i != index):\n",
    "            new_l.append(l[i])\n",
    "        i += 1\n",
    "    return  new_l\n",
    "\n",
    "def shuffle_guess():\n",
    "    source = []\n",
    "    i = 0\n",
    "    while(i < 8):\n",
    "        source.append(default_list[i])\n",
    "        i += 1\n",
    "    guess = []\n",
    "    i = 0\n",
    "    while(i < 8):\n",
    "        index_to_choose = randint(0, 7-i)\n",
    "        guess.append(source[index_to_choose])\n",
    "        source = remove_index(index_to_choose, source)\n",
    "        i += 1\n",
    "    return guess\n",
    "\n",
    "def compare(guess):\n",
    "    correct = 0\n",
    "    i = 0\n",
    "    while(i < 8):\n",
    "        if(default_list[i] == guess[i]):\n",
    "            correct += 1\n",
    "        i += 1\n",
    "    return correct\n",
    "\n"
   ]
  },
  {
   "cell_type": "code",
   "execution_count": 33,
   "metadata": {},
   "outputs": [
    {
     "name": "stdout",
     "output_type": "stream",
     "text": [
      "1419\n",
      "0.01419\n"
     ]
    }
   ],
   "source": [
    "trial = 0\n",
    "trials = 100000\n",
    "num_6_or_8 = 0\n",
    "while(trial < trials):\n",
    "    g = shuffle_guess()\n",
    "    number_correct = compare(g)\n",
    "    if(number_correct > 7):\n",
    "        num_6_or_8 += 1\n",
    "    trial += 1\n",
    "print(num_6_or_8)\n",
    "print(num_6_or_8/trials)"
   ]
  },
  {
   "cell_type": "code",
   "execution_count": null,
   "metadata": {},
   "outputs": [],
   "source": []
  },
  {
   "cell_type": "code",
   "execution_count": null,
   "metadata": {},
   "outputs": [],
   "source": []
  }
 ],
 "metadata": {
  "kernelspec": {
   "display_name": "Python 3",
   "language": "python",
   "name": "python3"
  },
  "language_info": {
   "codemirror_mode": {
    "name": "ipython",
    "version": 3
   },
   "file_extension": ".py",
   "mimetype": "text/x-python",
   "name": "python",
   "nbconvert_exporter": "python",
   "pygments_lexer": "ipython3",
   "version": "3.6.5"
  }
 },
 "nbformat": 4,
 "nbformat_minor": 2
}
