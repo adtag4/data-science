{
 "cells": [
  {
   "cell_type": "markdown",
   "metadata": {},
   "source": [
    "# Lsn 29\n",
    "#### Part 1: Uniform\n",
    "Estimator for b in uniform distribution by method of moments is 2\\*x_bar\n",
    "\n",
    "Likelihood: L(x; b) = 1/(b^n).  This is only true when x is less than b.  So add an indicator function: I(x<b).\n",
    "\n",
    "Likelihood is 0 from 0 until we reach the largest sample value, jumps to a max and dies off.  Then, b_estimate = x_max.\n",
    "\n",
    "#### Part 3: Binomial\n",
    "pmf = f(x, p) = (20/x) * p^(x) * (1-p)^(20-x) <== (20/x) is \"20 choose x\" probability\n",
    "\n",
    "L(p) = PRODUCT\\[1->n\\]\\[(20/x_i)*p^(x_i)*(1-p)^(20-x_i)\\]\n",
    "\n",
    "Take the log to turn into a sum, l(p) = log(PRODUCT\\[\\]\\[(20/x_i)\\]) + SUM\\[\\]\\[x_i\\]\\*log(p) + SUM\\[\\]\\[20-x_i\\]\\*log(1-p)\n",
    "\n",
    "Then derive, dl/dpm set equal to 0, end up with p_hat = x_bar/20"
   ]
  },
  {
   "cell_type": "markdown",
   "metadata": {},
   "source": [
    "# Lsn 30\n",
    "V(aX) - scaling (variance on linear transformation of a random variable\n",
    "\n",
    "V(aX) = a^2 \\* V(x)\n",
    "\n",
    "V(SUM\\[x_i\\]) = SUM\\[V(x_i)\\] iff X_i's are independent"
   ]
  },
  {
   "cell_type": "code",
   "execution_count": null,
   "metadata": {},
   "outputs": [],
   "source": []
  }
 ],
 "metadata": {
  "kernelspec": {
   "display_name": "Python 3",
   "language": "python",
   "name": "python3"
  },
  "language_info": {
   "codemirror_mode": {
    "name": "ipython",
    "version": 3
   },
   "file_extension": ".py",
   "mimetype": "text/x-python",
   "name": "python",
   "nbconvert_exporter": "python",
   "pygments_lexer": "ipython3",
   "version": "3.6.5"
  }
 },
 "nbformat": 4,
 "nbformat_minor": 2
}
