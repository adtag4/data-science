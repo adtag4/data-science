{
 "cells": [
  {
   "cell_type": "markdown",
   "metadata": {},
   "source": [
    "# Lesson 4\n",
    "#### C1C Albert Taglieri\n"
   ]
  },
  {
   "cell_type": "code",
   "execution_count": 1,
   "metadata": {},
   "outputs": [],
   "source": [
    "import numpy as np\n",
    "from datascience import *\n",
    "%matplotlib inline\n",
    "import matplotlib.pyplot as plots\n",
    "plots.style.use('fivethirtyeight')\n",
    "import warnings\n",
    "warnings.simplefilter(action=\"ignore\", category=FutureWarning)"
   ]
  },
  {
   "cell_type": "code",
   "execution_count": 11,
   "metadata": {},
   "outputs": [
    {
     "name": "stdout",
     "output_type": "stream",
     "text": [
      "I am albert taglieri. I am 21 years old. I'm from new salem, pa\n",
      "He is albert taglieri. He is 21 years old. He's from new salem, pa\n",
      "True\n",
      "i am albert taglieri. i am 21 years old. i'm from new salem, pa\n",
      "Albert Taglieri\n"
     ]
    }
   ],
   "source": [
    "# Task 1\n",
    "name = 'albert taglieri'\n",
    "age = 21\n",
    "hometown = 'new salem, pa'\n",
    "\n",
    "string = \"I am {}. I am {} years old. I'm from {}\".format(name, age, hometown)\n",
    "print(string)\n",
    "string2 = string.replace(\"I am\", \"He is\").replace(\"I'm\", \"He's\")\n",
    "print(string2)\n",
    "print((age + len(string)) > 40)\n",
    "print(string.lower())\n",
    "print(name.title())"
   ]
  },
  {
   "cell_type": "code",
   "execution_count": null,
   "metadata": {},
   "outputs": [],
   "source": []
  },
  {
   "cell_type": "code",
   "execution_count": null,
   "metadata": {},
   "outputs": [],
   "source": []
  }
 ],
 "metadata": {
  "kernelspec": {
   "display_name": "Python 3",
   "language": "python",
   "name": "python3"
  },
  "language_info": {
   "codemirror_mode": {
    "name": "ipython",
    "version": 3
   },
   "file_extension": ".py",
   "mimetype": "text/x-python",
   "name": "python",
   "nbconvert_exporter": "python",
   "pygments_lexer": "ipython3",
   "version": "3.6.5"
  }
 },
 "nbformat": 4,
 "nbformat_minor": 2
}
