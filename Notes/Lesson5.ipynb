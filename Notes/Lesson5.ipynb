{
 "cells": [
  {
   "cell_type": "markdown",
   "metadata": {},
   "source": [
    "# Lesson 5 Notes\n",
    "#### C1C Albert Taglieri\n",
    "Use of numpy library"
   ]
  },
  {
   "cell_type": "code",
   "execution_count": 2,
   "metadata": {},
   "outputs": [],
   "source": [
    "import datascience as ds\n",
    "import numpy as np"
   ]
  },
  {
   "cell_type": "code",
   "execution_count": 7,
   "metadata": {},
   "outputs": [
    {
     "name": "stdout",
     "output_type": "stream",
     "text": [
      "[1, 2, 3]\n",
      "<class 'list'>\n",
      "[1 2 3]\n",
      "<class 'numpy.ndarray'>\n"
     ]
    }
   ],
   "source": [
    "# demonstration of the difference between lists and numpy arrays\n",
    "lst = [1, 2, 3]\n",
    "arr = ds.make_array(1, 2, 3)\n",
    "print(lst)\n",
    "print(type(lst))\n",
    "print(arr)\n",
    "print(type(arr))"
   ]
  },
  {
   "cell_type": "code",
   "execution_count": 37,
   "metadata": {},
   "outputs": [
    {
     "name": "stdout",
     "output_type": "stream",
     "text": [
      "[ 1  3  5  7  9 11 13 15 17 19 21 23 25 27 29 31 33 35 37 39 41]\n",
      "<class 'numpy.ndarray'>\n",
      "[1 3 15 105 945 10395 135135 2027025 34459425 654729075 13749310575\n",
      " 316234143225 7905853580625 213458046676875 6190283353629375\n",
      " 191898783962510625 6332659870762850625 221643095476699771875\n",
      " 8200794532637891559375 319830986772877770815625\n",
      " 13113070457687988603440625]\n"
     ]
    }
   ],
   "source": [
    "# arange = array range - makes an array with the given range\n",
    "new_arr = np.arange(1, 42, 2)\n",
    "print(new_arr)\n",
    "print(type(new_arr))\n",
    "p = np.cumprod(new_arr, dtype='object')\n",
    "print(p)"
   ]
  },
  {
   "cell_type": "code",
   "execution_count": 34,
   "metadata": {},
   "outputs": [
    {
     "name": "stdout",
     "output_type": "stream",
     "text": [
      "['Albert' 'Taglieri' 'PA' 'Yellow']\n",
      "1\n"
     ]
    }
   ],
   "source": [
    "# task 1 in lesson agenda\n",
    "task1_arr = ds.make_array('Albert', 'Taglieri', 'PA', 'Yellow')\n",
    "print(task1_arr)\n",
    "task1_arr_1 = np.char.upper(task1_arr)\n",
    "print(np.sum(np.char.count(task1_arr, 'a'))) # number of occurrences of 'a' in the array"
   ]
  },
  {
   "cell_type": "code",
   "execution_count": null,
   "metadata": {},
   "outputs": [],
   "source": []
  }
 ],
 "metadata": {
  "kernelspec": {
   "display_name": "Python 3",
   "language": "python",
   "name": "python3"
  },
  "language_info": {
   "codemirror_mode": {
    "name": "ipython",
    "version": 3
   },
   "file_extension": ".py",
   "mimetype": "text/x-python",
   "name": "python",
   "nbconvert_exporter": "python",
   "pygments_lexer": "ipython3",
   "version": "3.6.5"
  }
 },
 "nbformat": 4,
 "nbformat_minor": 2
}
