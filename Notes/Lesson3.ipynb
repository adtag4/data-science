{
 "cells": [
  {
   "cell_type": "markdown",
   "metadata": {},
   "source": [
    "# Lesson 3\n",
    "#### C1C Albert Taglieri\n",
    "These are the notes for lesson 3 in class, and code examples.\n",
    "\n",
    "### Loading Packages Default Code"
   ]
  },
  {
   "cell_type": "code",
   "execution_count": null,
   "metadata": {},
   "outputs": [],
   "source": [
    "# Loading packages setup - from Professor Warner\n",
    "# The datascience is a unique package from Berkely, not used by \n",
    "#   other data scientists.  But, simple and helpful functions to\n",
    "#   use and learn with.\n",
    "\n",
    "import numpy as np\n",
    "drom datascience import *\n",
    "%matplotlib inline\n",
    "import matplotlib.pyplot as plots\n",
    "plots.style.use('fivethirtyeight')\n",
    "import warnings\n",
    "warnings.simplefilter(action=\"ignore\", category=FutureWarning)"
   ]
  },
  {
   "cell_type": "markdown",
   "metadata": {},
   "source": [
    "### Calculations Examples in Python\n",
    "As we are learning python, we will demonstrate sample calculations in python. \n",
    "\n",
    "The calculations below find the amount of seconds in a year (normal non-leap year of 365 days).  The next tasks calculate the number of seconds for specific time intervals.  "
   ]
  },
  {
   "cell_type": "code",
   "execution_count": null,
   "metadata": {},
   "outputs": [],
   "source": [
    "sec_per_minute  = 60\n",
    "minute_per_hour = 60\n",
    "hour_per_day    = 24\n",
    "day_per_year    = 365\n",
    "sec_per_year    = sec_per_minute * minute_per_hour * hour_per_day * day_per_year\n",
    "print(\"Seconds in a year are: \" + str(sec_per_year)"
   ]
  }
 ],
 "metadata": {
  "kernelspec": {
   "display_name": "Python 3",
   "language": "python",
   "name": "python3"
  },
  "language_info": {
   "codemirror_mode": {
    "name": "ipython",
    "version": 3
   },
   "file_extension": ".py",
   "mimetype": "text/x-python",
   "name": "python",
   "nbconvert_exporter": "python",
   "pygments_lexer": "ipython3",
   "version": "3.6.5"
  }
 },
 "nbformat": 4,
 "nbformat_minor": 2
}
