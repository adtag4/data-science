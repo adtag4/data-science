{
 "cells": [
  {
   "cell_type": "markdown",
   "metadata": {},
   "source": [
    "# Lesson 3\n",
    "#### C1C Albert Taglieri\n",
    "These are the notes for lesson 3 in class, and code examples.\n",
    "\n",
    "### Loading Packages Default Code"
   ]
  },
  {
   "cell_type": "code",
   "execution_count": 2,
   "metadata": {},
   "outputs": [],
   "source": [
    "# Loading packages setup - from provided notes sheet\n",
    "# The datascience is a unique package from Berkely, not used by \n",
    "#   other data scientists.  But, simple and helpful functions to\n",
    "#   use and learn with.\n",
    "\n",
    "import numpy as np\n",
    "from datascience import *\n",
    "%matplotlib inline\n",
    "import matplotlib.pyplot as plots\n",
    "plots.style.use('fivethirtyeight')\n",
    "import warnings\n",
    "warnings.simplefilter(action=\"ignore\", category=FutureWarning)"
   ]
  },
  {
   "cell_type": "markdown",
   "metadata": {},
   "source": [
    "### Calculations Examples in Python\n",
    "As we are learning python, we will demonstrate sample calculations in python. \n",
    "\n",
    "The calculations below find the amount of seconds in a year (normal non-leap year of 365 days).  The next tasks calculate the number of seconds for specific time intervals.  "
   ]
  },
  {
   "cell_type": "code",
   "execution_count": 3,
   "metadata": {},
   "outputs": [
    {
     "name": "stdout",
     "output_type": "stream",
     "text": [
      "Seconds in a year are: 31536000\n",
      "Seconds in the month of June are: 2592000\n",
      "Seconds from 1200 on 01 JUN to 0930 on 14 AUG are: 3706200\n"
     ]
    }
   ],
   "source": [
    "sec_per_minute  = 60\n",
    "minute_per_hour = 60\n",
    "hour_per_day    = 24\n",
    "day_per_year    = 365\n",
    "sec_per_year    = sec_per_minute * minute_per_hour * hour_per_day * day_per_year\n",
    "print(\"Seconds in a year are: \" + str(sec_per_year))\n",
    "\n",
    "# Now we find the seconds in June\n",
    "sec_in_june = sec_per_minute * minute_per_hour * hour_per_day * 30\n",
    "print(\"Seconds in the month of June are: \" + str(sec_in_june))\n",
    "\n",
    "# Now the specific start and end: 1200 on 01 JUN to 0930 on 14 AUG\n",
    "sec_aug_part =  13 * hour_per_day * minute_per_hour * sec_per_minute\n",
    "sec_aug_part += sec_per_minute * minute_per_hour * 9\n",
    "sec_aug_part += sec_per_minute * 30\n",
    "sec_spec = sec_aug_part + sec_in_june\n",
    "sec_spec -= sec_per_minute * minute_per_hour * 12\n",
    "print(\"Seconds from 1200 on 01 JUN to 0930 on 14 AUG are: \" + str(sec_spec))"
   ]
  },
  {
   "cell_type": "markdown",
   "metadata": {},
   "source": [
    "### Basic Data Stuff\n",
    "Now we will analyze the world population with the datascience package"
   ]
  },
  {
   "cell_type": "code",
   "execution_count": 15,
   "metadata": {},
   "outputs": [
    {
     "name": "stdout",
     "output_type": "stream",
     "text": [
      "Population in 2015 was: 7256490011\n",
      "The growth from 1950 to 2015 was: 4698861357\n",
      "The average annual growth rate was: 72290174.72307692 people per year.\n"
     ]
    }
   ],
   "source": [
    "world_pop_table = Table.read_table('../Data/world_population.csv')\n",
    "pop = world_pop_table['Population']\n",
    "num_yrs = len(pop)\n",
    "yr = []\n",
    "for i in range(num_yrs):\n",
    "    yr.append(1950 + i)\n",
    "i = 0\n",
    "p = 0\n",
    "y = 0\n",
    "while(y < 2015):\n",
    "    p = pop[i]\n",
    "    y = yr[i]\n",
    "    i += 1\n",
    "print(\"Population in \" + str(y) + \" was: \" + str(p))\n",
    "print(\"The growth from 1950 to 2015 was: \" + str(p - pop[0]))\n",
    "g = p - pop[0]\n",
    "r = g/(2015-1950)\n",
    "print(\"The average annual growth rate was: \" + str(r) + \" people per year.\")"
   ]
  },
  {
   "cell_type": "code",
   "execution_count": 17,
   "metadata": {},
   "outputs": [
    {
     "name": "stdout",
     "output_type": "stream",
     "text": [
      "Lables for the table: ('PassengerId', 'Survived', 'Pclass', 'Name', 'Sex', 'Age', 'SibSp', 'Parch', 'Ticket', 'Fare', 'Cabin', 'Embarked')\n"
     ]
    }
   ],
   "source": [
    "titanic_table = Table.read_table('http://raw.githubusercontent.com/oikobill/Kaggle/master/Titanic/data/train.csv')\n",
    "labels = titanic_table.labels\n",
    "print(\"Lables for the table: \" + str(labels))"
   ]
  },
  {
   "cell_type": "code",
   "execution_count": null,
   "metadata": {},
   "outputs": [],
   "source": []
  },
  {
   "cell_type": "code",
   "execution_count": null,
   "metadata": {},
   "outputs": [],
   "source": []
  },
  {
   "cell_type": "code",
   "execution_count": null,
   "metadata": {},
   "outputs": [],
   "source": []
  },
  {
   "cell_type": "code",
   "execution_count": null,
   "metadata": {},
   "outputs": [],
   "source": []
  }
 ],
 "metadata": {
  "kernelspec": {
   "display_name": "Python 3",
   "language": "python",
   "name": "python3"
  },
  "language_info": {
   "codemirror_mode": {
    "name": "ipython",
    "version": 3
   },
   "file_extension": ".py",
   "mimetype": "text/x-python",
   "name": "python",
   "nbconvert_exporter": "python",
   "pygments_lexer": "ipython3",
   "version": "3.6.5"
  }
 },
 "nbformat": 4,
 "nbformat_minor": 2
}
