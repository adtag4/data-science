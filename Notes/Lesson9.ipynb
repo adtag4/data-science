{
 "cells": [
  {
   "cell_type": "markdown",
   "metadata": {},
   "source": [
    "# Lesson 9\n",
    "#### C1C Albert Taglieri\n",
    "This lesson is about functions and 'applying' them to arrays and table columns.\n",
    "\n",
    "First we set up our preliminary loading code for the libraries and packages."
   ]
  },
  {
   "cell_type": "code",
   "execution_count": 32,
   "metadata": {},
   "outputs": [],
   "source": [
    "import datascience as ds\n",
    "import numpy as np\n",
    "%matplotlib inline\n",
    "import matplotlib.pyplot as plots\n",
    "plots.style.use('fivethirtyeight')"
   ]
  },
  {
   "cell_type": "markdown",
   "metadata": {},
   "source": [
    "Once the ds and np pacakages are loaded, we can load the table from the CSV file for tips."
   ]
  },
  {
   "cell_type": "code",
   "execution_count": 5,
   "metadata": {},
   "outputs": [
    {
     "name": "stdout",
     "output_type": "stream",
     "text": [
      "total_bill | tip  | sex    | smoker | day  | time   | size\n",
      "16.99      | 1.01 | Female | No     | Sun  | Dinner | 2\n",
      "10.34      | 1.66 | Male   | No     | Sun  | Dinner | 3\n",
      "21.01      | 3.5  | Male   | No     | Sun  | Dinner | 3\n",
      "23.68      | 3.31 | Male   | No     | Sun  | Dinner | 2\n",
      "24.59      | 3.61 | Female | No     | Sun  | Dinner | 4\n",
      "25.29      | 4.71 | Male   | No     | Sun  | Dinner | 4\n",
      "8.77       | 2    | Male   | No     | Sun  | Dinner | 2\n",
      "26.88      | 3.12 | Male   | No     | Sun  | Dinner | 4\n",
      "15.04      | 1.96 | Male   | No     | Sun  | Dinner | 2\n",
      "14.78      | 3.23 | Male   | No     | Sun  | Dinner | 2\n",
      "... (234 rows omitted)\n"
     ]
    }
   ],
   "source": [
    "tips = ds.Table.read_table('../Data/tips.csv')\n",
    "print(tips)"
   ]
  },
  {
   "cell_type": "markdown",
   "metadata": {},
   "source": [
    "Now we will calculate the mean tips for women and for men.  "
   ]
  },
  {
   "cell_type": "code",
   "execution_count": 16,
   "metadata": {},
   "outputs": [
    {
     "name": "stdout",
     "output_type": "stream",
     "text": [
      "Mean tips for males is:  3.0896178343949043\n",
      "Mean tips for females is:  2.8334482758620685\n"
     ]
    }
   ],
   "source": [
    "m_tips = tips.where('sex', ds.are.equal_to('Male')) # get a table with only males\n",
    "mt_sz = m_tips.select('tip').num_rows               # find the number of entries\n",
    "mt_tot = np.sum(m_tips['tip'])                      # sum the tips\n",
    "mt_mean = mt_tot/mt_sz                              # calculate the mean\n",
    "print('Mean tips for males is: ', mt_mean)          # print\n",
    "f_tips = tips.where('sex', ds.are.equal_to('Female')) # repeat above for female entries\n",
    "ft_sz = f_tips.select('tip').num_rows\n",
    "ft_tot = np.sum(f_tips['tip'])\n",
    "ft_mean = ft_tot/ft_sz\n",
    "print('Mean tips for females is: ', ft_mean)"
   ]
  },
  {
   "cell_type": "markdown",
   "metadata": {},
   "source": [
    "Now we will create a histogram for the data as well."
   ]
  },
  {
   "cell_type": "code",
   "execution_count": 29,
   "metadata": {},
   "outputs": [
    {
     "data": {
      "text/html": [
       "<table border=\"1\" class=\"dataframe\">\n",
       "    <thead>\n",
       "        <tr>\n",
       "            <th>total_bill</th> <th>tip</th> <th>sex</th> <th>smoker</th> <th>day</th> <th>time</th> <th>size</th>\n",
       "        </tr>\n",
       "    </thead>\n",
       "    <tbody>\n",
       "        <tr>\n",
       "            <td>16.99     </td> <td>1.01</td> <td>Female</td> <td>No    </td> <td>Sun </td> <td>Dinner</td> <td>2   </td>\n",
       "        </tr>\n",
       "        <tr>\n",
       "            <td>10.34     </td> <td>1.66</td> <td>Male  </td> <td>No    </td> <td>Sun </td> <td>Dinner</td> <td>3   </td>\n",
       "        </tr>\n",
       "        <tr>\n",
       "            <td>21.01     </td> <td>3.5 </td> <td>Male  </td> <td>No    </td> <td>Sun </td> <td>Dinner</td> <td>3   </td>\n",
       "        </tr>\n",
       "        <tr>\n",
       "            <td>23.68     </td> <td>3.31</td> <td>Male  </td> <td>No    </td> <td>Sun </td> <td>Dinner</td> <td>2   </td>\n",
       "        </tr>\n",
       "        <tr>\n",
       "            <td>24.59     </td> <td>3.61</td> <td>Female</td> <td>No    </td> <td>Sun </td> <td>Dinner</td> <td>4   </td>\n",
       "        </tr>\n",
       "        <tr>\n",
       "            <td>25.29     </td> <td>4.71</td> <td>Male  </td> <td>No    </td> <td>Sun </td> <td>Dinner</td> <td>4   </td>\n",
       "        </tr>\n",
       "        <tr>\n",
       "            <td>8.77      </td> <td>2   </td> <td>Male  </td> <td>No    </td> <td>Sun </td> <td>Dinner</td> <td>2   </td>\n",
       "        </tr>\n",
       "        <tr>\n",
       "            <td>26.88     </td> <td>3.12</td> <td>Male  </td> <td>No    </td> <td>Sun </td> <td>Dinner</td> <td>4   </td>\n",
       "        </tr>\n",
       "        <tr>\n",
       "            <td>15.04     </td> <td>1.96</td> <td>Male  </td> <td>No    </td> <td>Sun </td> <td>Dinner</td> <td>2   </td>\n",
       "        </tr>\n",
       "        <tr>\n",
       "            <td>14.78     </td> <td>3.23</td> <td>Male  </td> <td>No    </td> <td>Sun </td> <td>Dinner</td> <td>2   </td>\n",
       "        </tr>\n",
       "    </tbody>\n",
       "</table>\n",
       "<p>... (234 rows omitted)</p>"
      ],
      "text/plain": [
       "total_bill | tip  | sex    | smoker | day  | time   | size\n",
       "16.99      | 1.01 | Female | No     | Sun  | Dinner | 2\n",
       "10.34      | 1.66 | Male   | No     | Sun  | Dinner | 3\n",
       "21.01      | 3.5  | Male   | No     | Sun  | Dinner | 3\n",
       "23.68      | 3.31 | Male   | No     | Sun  | Dinner | 2\n",
       "24.59      | 3.61 | Female | No     | Sun  | Dinner | 4\n",
       "25.29      | 4.71 | Male   | No     | Sun  | Dinner | 4\n",
       "8.77       | 2    | Male   | No     | Sun  | Dinner | 2\n",
       "26.88      | 3.12 | Male   | No     | Sun  | Dinner | 4\n",
       "15.04      | 1.96 | Male   | No     | Sun  | Dinner | 2\n",
       "14.78      | 3.23 | Male   | No     | Sun  | Dinner | 2\n",
       "... (234 rows omitted)"
      ]
     },
     "execution_count": 29,
     "metadata": {},
     "output_type": "execute_result"
    }
   ],
   "source": [
    "tips"
   ]
  },
  {
   "cell_type": "code",
   "execution_count": 30,
   "metadata": {},
   "outputs": [
    {
     "data": {
      "text/html": [
       "<table border=\"1\" class=\"dataframe\">\n",
       "    <thead>\n",
       "        <tr>\n",
       "            <th>tip</th> <th>sex</th>\n",
       "        </tr>\n",
       "    </thead>\n",
       "    <tbody>\n",
       "        <tr>\n",
       "            <td>1.01</td> <td>Female</td>\n",
       "        </tr>\n",
       "        <tr>\n",
       "            <td>1.66</td> <td>Male  </td>\n",
       "        </tr>\n",
       "        <tr>\n",
       "            <td>3.5 </td> <td>Male  </td>\n",
       "        </tr>\n",
       "        <tr>\n",
       "            <td>3.31</td> <td>Male  </td>\n",
       "        </tr>\n",
       "        <tr>\n",
       "            <td>3.61</td> <td>Female</td>\n",
       "        </tr>\n",
       "        <tr>\n",
       "            <td>4.71</td> <td>Male  </td>\n",
       "        </tr>\n",
       "        <tr>\n",
       "            <td>2   </td> <td>Male  </td>\n",
       "        </tr>\n",
       "        <tr>\n",
       "            <td>3.12</td> <td>Male  </td>\n",
       "        </tr>\n",
       "        <tr>\n",
       "            <td>1.96</td> <td>Male  </td>\n",
       "        </tr>\n",
       "        <tr>\n",
       "            <td>3.23</td> <td>Male  </td>\n",
       "        </tr>\n",
       "    </tbody>\n",
       "</table>\n",
       "<p>... (234 rows omitted)</p>"
      ],
      "text/plain": [
       "tip  | sex\n",
       "1.01 | Female\n",
       "1.66 | Male\n",
       "3.5  | Male\n",
       "3.31 | Male\n",
       "3.61 | Female\n",
       "4.71 | Male\n",
       "2    | Male\n",
       "3.12 | Male\n",
       "1.96 | Male\n",
       "3.23 | Male\n",
       "... (234 rows omitted)"
      ]
     },
     "execution_count": 30,
     "metadata": {},
     "output_type": "execute_result"
    }
   ],
   "source": [
    "tips.select('tip', 'sex')"
   ]
  },
  {
   "cell_type": "code",
   "execution_count": 33,
   "metadata": {},
   "outputs": [
    {
     "name": "stderr",
     "output_type": "stream",
     "text": [
      "C:\\Users\\C19Albert.Taglieri\\AppData\\Local\\Continuum\\anaconda3\\lib\\site-packages\\matplotlib\\axes\\_axes.py:6462: UserWarning: The 'normed' kwarg is deprecated, and has been replaced by the 'density' kwarg.\n",
      "  warnings.warn(\"The 'normed' kwarg is deprecated, and has been \"\n"
     ]
    },
    {
     "data": {
      "image/png": "[encoded data removed]",
      "text/plain": [
       "<Figure size 432x288 with 1 Axes>"
      ]
     },
     "metadata": {},
     "output_type": "display_data"
    }
   ],
   "source": [
    "tips.hist('tip', group='sex')"
   ]
  },
  {
   "cell_type": "code",
   "execution_count": null,
   "metadata": {},
   "outputs": [],
   "source": []
  }
 ],
 "metadata": {
  "kernelspec": {
   "display_name": "Python 3",
   "language": "python",
   "name": "python3"
  },
  "language_info": {
   "codemirror_mode": {
    "name": "ipython",
    "version": 3
   },
   "file_extension": ".py",
   "mimetype": "text/x-python",
   "name": "python",
   "nbconvert_exporter": "python",
   "pygments_lexer": "ipython3",
   "version": "3.6.5"
  }
 },
 "nbformat": 4,
 "nbformat_minor": 2
}
