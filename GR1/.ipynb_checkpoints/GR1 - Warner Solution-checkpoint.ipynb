{
 "cells": [
  {
   "cell_type": "markdown",
   "metadata": {},
   "source": [
    "### GR 1\n",
    "\n",
    "Professor Warner's work for the GR. This was done with the first copy of the GR. All markdown was added later. All errors are Professor Warner's responsibility."
   ]
  },
  {
   "cell_type": "markdown",
   "metadata": {},
   "source": [
    "Question 4 - from the graphs I estimate that 14% of smokers, so 14, and 3% of non-smokers, so 15. There are 600:"
   ]
  },
  {
   "cell_type": "code",
   "execution_count": 1,
   "metadata": {},
   "outputs": [
    {
     "data": {
      "text/plain": [
       "0.04833333333333333"
      ]
     },
     "execution_count": 1,
     "metadata": {},
     "output_type": "execute_result"
    }
   ],
   "source": [
    "29/600"
   ]
  },
  {
   "cell_type": "raw",
   "metadata": {},
   "source": [
    "Create a choose function"
   ]
  },
  {
   "cell_type": "code",
   "execution_count": 2,
   "metadata": {},
   "outputs": [],
   "source": [
    "from math import factorial"
   ]
  },
  {
   "cell_type": "code",
   "execution_count": 3,
   "metadata": {},
   "outputs": [],
   "source": [
    "def choose(n,k):\n",
    "    return factorial(n)//(factorial(n-k)*factorial(k))"
   ]
  },
  {
   "cell_type": "markdown",
   "metadata": {},
   "source": [
    "Test function"
   ]
  },
  {
   "cell_type": "code",
   "execution_count": 4,
   "metadata": {},
   "outputs": [
    {
     "data": {
      "text/plain": [
       "6"
      ]
     },
     "execution_count": 4,
     "metadata": {},
     "output_type": "execute_result"
    }
   ],
   "source": [
    "choose(4,2)"
   ]
  },
  {
   "cell_type": "markdown",
   "metadata": {},
   "source": [
    "What is probability of only 4 degrees:"
   ]
  },
  {
   "cell_type": "code",
   "execution_count": 5,
   "metadata": {},
   "outputs": [
    {
     "data": {
      "text/plain": [
       "0.0017034073141612592"
      ]
     },
     "execution_count": 5,
     "metadata": {},
     "output_type": "execute_result"
    }
   ],
   "source": [
    "choose(35,5)/choose(120,5)"
   ]
  },
  {
   "cell_type": "markdown",
   "metadata": {},
   "source": [
    "What is probability of no four-degrees"
   ]
  },
  {
   "cell_type": "code",
   "execution_count": 6,
   "metadata": {},
   "outputs": [
    {
     "data": {
      "text/plain": [
       "0.1721159465899384"
      ]
     },
     "execution_count": 6,
     "metadata": {},
     "output_type": "execute_result"
    }
   ],
   "source": [
    "choose(85,5)/choose(120,5)"
   ]
  },
  {
   "cell_type": "markdown",
   "metadata": {},
   "source": [
    "What is probability of at least one firstie:"
   ]
  },
  {
   "cell_type": "code",
   "execution_count": 7,
   "metadata": {},
   "outputs": [
    {
     "data": {
      "text/plain": [
       "0.6959748150185459"
      ]
     },
     "execution_count": 7,
     "metadata": {},
     "output_type": "execute_result"
    }
   ],
   "source": [
    "1-choose(95,5)/choose(120,5)"
   ]
  },
  {
   "cell_type": "markdown",
   "metadata": {},
   "source": [
    "What is porbability sample will contain at least one from each class:"
   ]
  },
  {
   "cell_type": "code",
   "execution_count": 8,
   "metadata": {},
   "outputs": [
    {
     "data": {
      "text/plain": [
       "0.2396656185290283"
      ]
     },
     "execution_count": 8,
     "metadata": {},
     "output_type": "execute_result"
    }
   ],
   "source": [
    "(25*30*30*35*116)/(choose(120,5)*factorial(2))"
   ]
  },
  {
   "cell_type": "markdown",
   "metadata": {},
   "source": [
    "Import numpy for my simulation"
   ]
  },
  {
   "cell_type": "code",
   "execution_count": 9,
   "metadata": {},
   "outputs": [],
   "source": [
    "import numpy as np"
   ]
  },
  {
   "cell_type": "code",
   "execution_count": 10,
   "metadata": {},
   "outputs": [
    {
     "data": {
      "text/plain": [
       "6"
      ]
     },
     "execution_count": 10,
     "metadata": {},
     "output_type": "execute_result"
    }
   ],
   "source": [
    "np.prod([1,2,3])"
   ]
  },
  {
   "cell_type": "markdown",
   "metadata": {},
   "source": [
    "Answer for at least one shirt on two or mor days. I used the compliment of no matches."
   ]
  },
  {
   "cell_type": "code",
   "execution_count": 11,
   "metadata": {},
   "outputs": [
    {
     "data": {
      "text/plain": [
       "0.9922089028629422"
      ]
     },
     "execution_count": 11,
     "metadata": {},
     "output_type": "execute_result"
    }
   ],
   "source": [
    "1-np.prod(np.arange(100,70.,-1))/(100**30)"
   ]
  },
  {
   "cell_type": "markdown",
   "metadata": {},
   "source": [
    "A simulation. The set function will return unique items, there are other ways to do this."
   ]
  },
  {
   "cell_type": "code",
   "execution_count": 12,
   "metadata": {},
   "outputs": [
    {
     "data": {
      "text/plain": [
       "0.99213"
      ]
     },
     "execution_count": 12,
     "metadata": {},
     "output_type": "execute_result"
    }
   ],
   "source": [
    "results=[]\n",
    "for i in range(100000):\n",
    "    temp=np.random.choice(np.arange(0,100,1),30)\n",
    "    results.append(len(temp)>len(set(temp)))\n",
    "sum(results)/100000"
   ]
  },
  {
   "cell_type": "markdown",
   "metadata": {},
   "source": [
    "Import datascience for this last series of questions:"
   ]
  },
  {
   "cell_type": "code",
   "execution_count": 1,
   "metadata": {},
   "outputs": [],
   "source": [
    "import datascience as ds"
   ]
  },
  {
   "cell_type": "markdown",
   "metadata": {},
   "source": [
    "Import data"
   ]
  },
  {
   "cell_type": "code",
   "execution_count": 14,
   "metadata": {},
   "outputs": [
    {
     "data": {
      "text/html": [
       "<table border=\"1\" class=\"dataframe\">\n",
       "    <thead>\n",
       "        <tr>\n",
       "            <th>PLAYER</th> <th>POSITION</th> <th>TEAM</th> <th>'15-'16 SALARY</th>\n",
       "        </tr>\n",
       "    </thead>\n",
       "    <tbody>\n",
       "        <tr>\n",
       "            <td>Paul Millsap    </td> <td>PF      </td> <td>Atlanta Hawks</td> <td>18.6717       </td>\n",
       "        </tr>\n",
       "        <tr>\n",
       "            <td>Al Horford      </td> <td>C       </td> <td>Atlanta Hawks</td> <td>12            </td>\n",
       "        </tr>\n",
       "        <tr>\n",
       "            <td>Tiago Splitter  </td> <td>C       </td> <td>Atlanta Hawks</td> <td>9.75625       </td>\n",
       "        </tr>\n",
       "        <tr>\n",
       "            <td>Jeff Teague     </td> <td>PG      </td> <td>Atlanta Hawks</td> <td>8             </td>\n",
       "        </tr>\n",
       "        <tr>\n",
       "            <td>Kyle Korver     </td> <td>SG      </td> <td>Atlanta Hawks</td> <td>5.74648       </td>\n",
       "        </tr>\n",
       "        <tr>\n",
       "            <td>Thabo Sefolosha </td> <td>SF      </td> <td>Atlanta Hawks</td> <td>4             </td>\n",
       "        </tr>\n",
       "        <tr>\n",
       "            <td>Mike Scott      </td> <td>PF      </td> <td>Atlanta Hawks</td> <td>3.33333       </td>\n",
       "        </tr>\n",
       "        <tr>\n",
       "            <td>Kent Bazemore   </td> <td>SF      </td> <td>Atlanta Hawks</td> <td>2             </td>\n",
       "        </tr>\n",
       "        <tr>\n",
       "            <td>Dennis Schroder </td> <td>PG      </td> <td>Atlanta Hawks</td> <td>1.7634        </td>\n",
       "        </tr>\n",
       "        <tr>\n",
       "            <td>Tim Hardaway Jr.</td> <td>SG      </td> <td>Atlanta Hawks</td> <td>1.30452       </td>\n",
       "        </tr>\n",
       "    </tbody>\n",
       "</table>\n",
       "<p>... (407 rows omitted)</p>"
      ],
      "text/plain": [
       "PLAYER           | POSITION | TEAM          | '15-'16 SALARY\n",
       "Paul Millsap     | PF       | Atlanta Hawks | 18.6717\n",
       "Al Horford       | C        | Atlanta Hawks | 12\n",
       "Tiago Splitter   | C        | Atlanta Hawks | 9.75625\n",
       "Jeff Teague      | PG       | Atlanta Hawks | 8\n",
       "Kyle Korver      | SG       | Atlanta Hawks | 5.74648\n",
       "Thabo Sefolosha  | SF       | Atlanta Hawks | 4\n",
       "Mike Scott       | PF       | Atlanta Hawks | 3.33333\n",
       "Kent Bazemore    | SF       | Atlanta Hawks | 2\n",
       "Dennis Schroder  | PG       | Atlanta Hawks | 1.7634\n",
       "Tim Hardaway Jr. | SG       | Atlanta Hawks | 1.30452\n",
       "... (407 rows omitted)"
      ]
     },
     "execution_count": 14,
     "metadata": {},
     "output_type": "execute_result"
    }
   ],
   "source": [
    "grdata=ds.Table.read_table(\"nba_salaries.csv\")\n",
    "grdata"
   ]
  },
  {
   "cell_type": "markdown",
   "metadata": {},
   "source": [
    "Fifth highest paid player in the league"
   ]
  },
  {
   "cell_type": "code",
   "execution_count": 15,
   "metadata": {},
   "outputs": [
    {
     "data": {
      "text/html": [
       "<table border=\"1\" class=\"dataframe\">\n",
       "    <thead>\n",
       "        <tr>\n",
       "            <th>PLAYER</th> <th>POSITION</th> <th>TEAM</th> <th>'15-'16 SALARY</th>\n",
       "        </tr>\n",
       "    </thead>\n",
       "    <tbody>\n",
       "        <tr>\n",
       "            <td>Kobe Bryant    </td> <td>SF      </td> <td>Los Angeles Lakers </td> <td>25            </td>\n",
       "        </tr>\n",
       "        <tr>\n",
       "            <td>Joe Johnson    </td> <td>SF      </td> <td>Brooklyn Nets      </td> <td>24.8949       </td>\n",
       "        </tr>\n",
       "        <tr>\n",
       "            <td>LeBron James   </td> <td>SF      </td> <td>Cleveland Cavaliers</td> <td>22.9705       </td>\n",
       "        </tr>\n",
       "        <tr>\n",
       "            <td>Carmelo Anthony</td> <td>SF      </td> <td>New York Knicks    </td> <td>22.875        </td>\n",
       "        </tr>\n",
       "        <tr>\n",
       "            <td>Dwight Howard  </td> <td>C       </td> <td>Houston Rockets    </td> <td>22.3594       </td>\n",
       "        </tr>\n",
       "        <tr>\n",
       "            <td>Chris Bosh     </td> <td>PF      </td> <td>Miami Heat         </td> <td>22.1927       </td>\n",
       "        </tr>\n",
       "    </tbody>\n",
       "</table>\n",
       "<p>... (411 rows omitted)</p>"
      ],
      "text/plain": [
       "<IPython.core.display.HTML object>"
      ]
     },
     "metadata": {},
     "output_type": "display_data"
    }
   ],
   "source": [
    "grdata.sort(3,descending=True).show(6)"
   ]
  },
  {
   "cell_type": "markdown",
   "metadata": {},
   "source": [
    "Team with the third highest combined salary"
   ]
  },
  {
   "cell_type": "code",
   "execution_count": 16,
   "metadata": {},
   "outputs": [
    {
     "data": {
      "text/html": [
       "<table border=\"1\" class=\"dataframe\">\n",
       "    <thead>\n",
       "        <tr>\n",
       "            <th>TEAM</th> <th>PLAYER sum</th> <th>POSITION sum</th> <th>'15-'16 SALARY sum</th>\n",
       "        </tr>\n",
       "    </thead>\n",
       "    <tbody>\n",
       "        <tr>\n",
       "            <td>Cleveland Cavaliers  </td> <td>          </td> <td>            </td> <td>102.312           </td>\n",
       "        </tr>\n",
       "        <tr>\n",
       "            <td>Oklahoma City Thunder</td> <td>          </td> <td>            </td> <td>96.8322           </td>\n",
       "        </tr>\n",
       "        <tr>\n",
       "            <td>Golden State Warriors</td> <td>          </td> <td>            </td> <td>94.0851           </td>\n",
       "        </tr>\n",
       "        <tr>\n",
       "            <td>Memphis Grizzlies    </td> <td>          </td> <td>            </td> <td>93.7964           </td>\n",
       "        </tr>\n",
       "        <tr>\n",
       "            <td>Washington Wizards   </td> <td>          </td> <td>            </td> <td>90.0475           </td>\n",
       "        </tr>\n",
       "        <tr>\n",
       "            <td>Houston Rockets      </td> <td>          </td> <td>            </td> <td>85.2858           </td>\n",
       "        </tr>\n",
       "        <tr>\n",
       "            <td>San Antonio Spurs    </td> <td>          </td> <td>            </td> <td>84.6521           </td>\n",
       "        </tr>\n",
       "        <tr>\n",
       "            <td>Charlotte Hornets    </td> <td>          </td> <td>            </td> <td>84.1024           </td>\n",
       "        </tr>\n",
       "        <tr>\n",
       "            <td>Miami Heat           </td> <td>          </td> <td>            </td> <td>81.5287           </td>\n",
       "        </tr>\n",
       "        <tr>\n",
       "            <td>New Orleans Pelicans </td> <td>          </td> <td>            </td> <td>80.5146           </td>\n",
       "        </tr>\n",
       "    </tbody>\n",
       "</table>\n",
       "<p>... (20 rows omitted)</p>"
      ],
      "text/plain": [
       "TEAM                  | PLAYER sum | POSITION sum | '15-'16 SALARY sum\n",
       "Cleveland Cavaliers   |            |              | 102.312\n",
       "Oklahoma City Thunder |            |              | 96.8322\n",
       "Golden State Warriors |            |              | 94.0851\n",
       "Memphis Grizzlies     |            |              | 93.7964\n",
       "Washington Wizards    |            |              | 90.0475\n",
       "Houston Rockets       |            |              | 85.2858\n",
       "San Antonio Spurs     |            |              | 84.6521\n",
       "Charlotte Hornets     |            |              | 84.1024\n",
       "Miami Heat            |            |              | 81.5287\n",
       "New Orleans Pelicans  |            |              | 80.5146\n",
       "... (20 rows omitted)"
      ]
     },
     "execution_count": 16,
     "metadata": {},
     "output_type": "execute_result"
    }
   ],
   "source": [
    "grdata.group(\"TEAM\",np.sum).sort(3,descending=True)"
   ]
  },
  {
   "cell_type": "markdown",
   "metadata": {},
   "source": [
    "Lowest paid player on the Hornets"
   ]
  },
  {
   "cell_type": "code",
   "execution_count": 17,
   "metadata": {},
   "outputs": [
    {
     "data": {
      "text/html": [
       "<table border=\"1\" class=\"dataframe\">\n",
       "    <thead>\n",
       "        <tr>\n",
       "            <th>PLAYER</th> <th>POSITION</th> <th>TEAM</th> <th>'15-'16 SALARY</th>\n",
       "        </tr>\n",
       "    </thead>\n",
       "    <tbody>\n",
       "        <tr>\n",
       "            <td>Aaron Harrison    </td> <td>SG      </td> <td>Charlotte Hornets</td> <td>0.525093      </td>\n",
       "        </tr>\n",
       "        <tr>\n",
       "            <td>Damien Wilkins    </td> <td>SG      </td> <td>Charlotte Hornets</td> <td>0.947276      </td>\n",
       "        </tr>\n",
       "        <tr>\n",
       "            <td>Jorge Gutierrez   </td> <td>PG      </td> <td>Charlotte Hornets</td> <td>0.947276      </td>\n",
       "        </tr>\n",
       "        <tr>\n",
       "            <td>Tyler Hansbrough  </td> <td>PF      </td> <td>Charlotte Hornets</td> <td>0.947276      </td>\n",
       "        </tr>\n",
       "        <tr>\n",
       "            <td>Troy Daniels      </td> <td>SG      </td> <td>Charlotte Hornets</td> <td>0.947276      </td>\n",
       "        </tr>\n",
       "        <tr>\n",
       "            <td>P.J. Hairston     </td> <td>SF      </td> <td>Charlotte Hornets</td> <td>1.20144       </td>\n",
       "        </tr>\n",
       "        <tr>\n",
       "            <td>Jeremy Lin        </td> <td>PG      </td> <td>Charlotte Hornets</td> <td>2.139         </td>\n",
       "        </tr>\n",
       "        <tr>\n",
       "            <td>Frank Kaminsky III</td> <td>C       </td> <td>Charlotte Hornets</td> <td>2.61252       </td>\n",
       "        </tr>\n",
       "        <tr>\n",
       "            <td>Brian Roberts     </td> <td>PG      </td> <td>Charlotte Hornets</td> <td>2.85494       </td>\n",
       "        </tr>\n",
       "        <tr>\n",
       "            <td>Jeremy Lamb       </td> <td>SG      </td> <td>Charlotte Hornets</td> <td>3.03436       </td>\n",
       "        </tr>\n",
       "    </tbody>\n",
       "</table>\n",
       "<p>... (8 rows omitted)</p>"
      ],
      "text/plain": [
       "PLAYER             | POSITION | TEAM              | '15-'16 SALARY\n",
       "Aaron Harrison     | SG       | Charlotte Hornets | 0.525093\n",
       "Damien Wilkins     | SG       | Charlotte Hornets | 0.947276\n",
       "Jorge Gutierrez    | PG       | Charlotte Hornets | 0.947276\n",
       "Tyler Hansbrough   | PF       | Charlotte Hornets | 0.947276\n",
       "Troy Daniels       | SG       | Charlotte Hornets | 0.947276\n",
       "P.J. Hairston      | SF       | Charlotte Hornets | 1.20144\n",
       "Jeremy Lin         | PG       | Charlotte Hornets | 2.139\n",
       "Frank Kaminsky III | C        | Charlotte Hornets | 2.61252\n",
       "Brian Roberts      | PG       | Charlotte Hornets | 2.85494\n",
       "Jeremy Lamb        | SG       | Charlotte Hornets | 3.03436\n",
       "... (8 rows omitted)"
      ]
     },
     "execution_count": 17,
     "metadata": {},
     "output_type": "execute_result"
    }
   ],
   "source": [
    "grdata.where(\"TEAM\",ds.are.equal_to(\"Charlotte Hornets\")).sort(3)"
   ]
  },
  {
   "cell_type": "markdown",
   "metadata": {},
   "source": [
    "Info on Tyler Zeller"
   ]
  },
  {
   "cell_type": "code",
   "execution_count": 18,
   "metadata": {},
   "outputs": [
    {
     "data": {
      "text/html": [
       "<table border=\"1\" class=\"dataframe\">\n",
       "    <thead>\n",
       "        <tr>\n",
       "            <th>PLAYER</th> <th>POSITION</th> <th>TEAM</th> <th>'15-'16 SALARY</th>\n",
       "        </tr>\n",
       "    </thead>\n",
       "    <tbody>\n",
       "        <tr>\n",
       "            <td>Tyler Zeller</td> <td>C       </td> <td>Boston Celtics</td> <td>2.61698       </td>\n",
       "        </tr>\n",
       "    </tbody>\n",
       "</table>"
      ],
      "text/plain": [
       "PLAYER       | POSITION | TEAM           | '15-'16 SALARY\n",
       "Tyler Zeller | C        | Boston Celtics | 2.61698"
      ]
     },
     "execution_count": 18,
     "metadata": {},
     "output_type": "execute_result"
    }
   ],
   "source": [
    "grdata.where(\"PLAYER\",\"Tyler Zeller\")"
   ]
  },
  {
   "cell_type": "markdown",
   "metadata": {},
   "source": [
    "Average salary of point guards on Nuggets"
   ]
  },
  {
   "cell_type": "code",
   "execution_count": 19,
   "metadata": {},
   "outputs": [
    {
     "data": {
      "text/html": [
       "<table border=\"1\" class=\"dataframe\">\n",
       "    <thead>\n",
       "        <tr>\n",
       "            <th>POSITION</th> <th>PLAYER mean</th> <th>TEAM mean</th> <th>'15-'16 SALARY mean</th>\n",
       "        </tr>\n",
       "    </thead>\n",
       "    <tbody>\n",
       "        <tr>\n",
       "            <td>C       </td> <td>           </td> <td>         </td> <td>2.6163             </td>\n",
       "        </tr>\n",
       "        <tr>\n",
       "            <td>PF      </td> <td>           </td> <td>         </td> <td>7.02498            </td>\n",
       "        </tr>\n",
       "        <tr>\n",
       "            <td>PG      </td> <td>           </td> <td>         </td> <td>3.72362            </td>\n",
       "        </tr>\n",
       "        <tr>\n",
       "            <td>SF      </td> <td>           </td> <td>         </td> <td>7.19577            </td>\n",
       "        </tr>\n",
       "        <tr>\n",
       "            <td>SG      </td> <td>           </td> <td>         </td> <td>0.841949           </td>\n",
       "        </tr>\n",
       "    </tbody>\n",
       "</table>"
      ],
      "text/plain": [
       "POSITION | PLAYER mean | TEAM mean | '15-'16 SALARY mean\n",
       "C        |             |           | 2.6163\n",
       "PF       |             |           | 7.02498\n",
       "PG       |             |           | 3.72362\n",
       "SF       |             |           | 7.19577\n",
       "SG       |             |           | 0.841949"
      ]
     },
     "execution_count": 19,
     "metadata": {},
     "output_type": "execute_result"
    }
   ],
   "source": [
    "grdata.where(\"TEAM\",\"Denver Nuggets\").group(\"POSITION\",np.mean)"
   ]
  },
  {
   "cell_type": "markdown",
   "metadata": {},
   "source": [
    "The team with highest paid player versus average"
   ]
  },
  {
   "cell_type": "code",
   "execution_count": 20,
   "metadata": {},
   "outputs": [
    {
     "data": {
      "text/html": [
       "<table border=\"1\" class=\"dataframe\">\n",
       "    <thead>\n",
       "        <tr>\n",
       "            <th>TEAM</th> <th>PLAYER</th> <th>POSITION</th> <th>'15-'16 SALARY</th>\n",
       "        </tr>\n",
       "    </thead>\n",
       "    <tbody>\n",
       "        <tr>\n",
       "            <td>Brooklyn Nets        </td> <td>      </td> <td>        </td> <td>20.4866       </td>\n",
       "        </tr>\n",
       "        <tr>\n",
       "            <td>Los Angeles Lakers   </td> <td>      </td> <td>        </td> <td>18.7629       </td>\n",
       "        </tr>\n",
       "        <tr>\n",
       "            <td>New York Knicks      </td> <td>      </td> <td>        </td> <td>17.5362       </td>\n",
       "        </tr>\n",
       "        <tr>\n",
       "            <td>Los Angeles Clippers </td> <td>      </td> <td>        </td> <td>16.3861       </td>\n",
       "        </tr>\n",
       "        <tr>\n",
       "            <td>Miami Heat           </td> <td>      </td> <td>        </td> <td>15.3987       </td>\n",
       "        </tr>\n",
       "        <tr>\n",
       "            <td>Houston Rockets      </td> <td>      </td> <td>        </td> <td>15.2522       </td>\n",
       "        </tr>\n",
       "        <tr>\n",
       "            <td>Memphis Grizzlies    </td> <td>      </td> <td>        </td> <td>15.2215       </td>\n",
       "        </tr>\n",
       "        <tr>\n",
       "            <td>Oklahoma City Thunder</td> <td>      </td> <td>        </td> <td>14.1066       </td>\n",
       "        </tr>\n",
       "        <tr>\n",
       "            <td>Atlanta Hawks        </td> <td>      </td> <td>        </td> <td>13.7022       </td>\n",
       "        </tr>\n",
       "        <tr>\n",
       "            <td>Chicago Bulls        </td> <td>      </td> <td>        </td> <td>13.5247       </td>\n",
       "        </tr>\n",
       "    </tbody>\n",
       "</table>\n",
       "<p>... (20 rows omitted)</p>"
      ],
      "text/plain": [
       "TEAM                  | PLAYER | POSITION | '15-'16 SALARY\n",
       "Brooklyn Nets         |        |          | 20.4866\n",
       "Los Angeles Lakers    |        |          | 18.7629\n",
       "New York Knicks       |        |          | 17.5362\n",
       "Los Angeles Clippers  |        |          | 16.3861\n",
       "Miami Heat            |        |          | 15.3987\n",
       "Houston Rockets       |        |          | 15.2522\n",
       "Memphis Grizzlies     |        |          | 15.2215\n",
       "Oklahoma City Thunder |        |          | 14.1066\n",
       "Atlanta Hawks         |        |          | 13.7022\n",
       "Chicago Bulls         |        |          | 13.5247\n",
       "... (20 rows omitted)"
      ]
     },
     "execution_count": 20,
     "metadata": {},
     "output_type": "execute_result"
    }
   ],
   "source": [
    "grdata.group(\"TEAM\",lambda x:np.max(x)-np.mean(x)).sort(3,descending=True)"
   ]
  },
  {
   "cell_type": "markdown",
   "metadata": {},
   "source": [
    "The third highest average salary for starters"
   ]
  },
  {
   "cell_type": "code",
   "execution_count": 21,
   "metadata": {},
   "outputs": [
    {
     "data": {
      "text/html": [
       "<table border=\"1\" class=\"dataframe\">\n",
       "    <thead>\n",
       "        <tr>\n",
       "            <th>TEAM</th> <th>POSITION average</th> <th>PLAYER amax average</th> <th>'15-'16 SALARY amax average</th>\n",
       "        </tr>\n",
       "    </thead>\n",
       "    <tbody>\n",
       "        <tr>\n",
       "            <td>Miami Heat           </td> <td>                </td> <td>                   </td> <td>16.7818                    </td>\n",
       "        </tr>\n",
       "        <tr>\n",
       "            <td>Cleveland Cavaliers  </td> <td>                </td> <td>                   </td> <td>16.4633                    </td>\n",
       "        </tr>\n",
       "        <tr>\n",
       "            <td>Oklahoma City Thunder</td> <td>                </td> <td>                   </td> <td>14.1398                    </td>\n",
       "        </tr>\n",
       "        <tr>\n",
       "            <td>San Antonio Spurs    </td> <td>                </td> <td>                   </td> <td>13.4068                    </td>\n",
       "        </tr>\n",
       "        <tr>\n",
       "            <td>Golden State Warriors</td> <td>                </td> <td>                   </td> <td>13.3286                    </td>\n",
       "        </tr>\n",
       "        <tr>\n",
       "            <td>Houston Rockets      </td> <td>                </td> <td>                   </td> <td>12.2406                    </td>\n",
       "        </tr>\n",
       "        <tr>\n",
       "            <td>Chicago Bulls        </td> <td>                </td> <td>                   </td> <td>11.5649                    </td>\n",
       "        </tr>\n",
       "        <tr>\n",
       "            <td>Los Angeles Lakers   </td> <td>                </td> <td>                   </td> <td>11.1655                    </td>\n",
       "        </tr>\n",
       "        <tr>\n",
       "            <td>New York Knicks      </td> <td>                </td> <td>                   </td> <td>11.0119                    </td>\n",
       "        </tr>\n",
       "        <tr>\n",
       "            <td>Sacramento Kings     </td> <td>                </td> <td>                   </td> <td>10.9539                    </td>\n",
       "        </tr>\n",
       "    </tbody>\n",
       "</table>\n",
       "<p>... (20 rows omitted)</p>"
      ],
      "text/plain": [
       "TEAM                  | POSITION average | PLAYER amax average | '15-'16 SALARY amax average\n",
       "Miami Heat            |                  |                     | 16.7818\n",
       "Cleveland Cavaliers   |                  |                     | 16.4633\n",
       "Oklahoma City Thunder |                  |                     | 14.1398\n",
       "San Antonio Spurs     |                  |                     | 13.4068\n",
       "Golden State Warriors |                  |                     | 13.3286\n",
       "Houston Rockets       |                  |                     | 12.2406\n",
       "Chicago Bulls         |                  |                     | 11.5649\n",
       "Los Angeles Lakers    |                  |                     | 11.1655\n",
       "New York Knicks       |                  |                     | 11.0119\n",
       "Sacramento Kings      |                  |                     | 10.9539\n",
       "... (20 rows omitted)"
      ]
     },
     "execution_count": 21,
     "metadata": {},
     "output_type": "execute_result"
    }
   ],
   "source": [
    "grdata.group([\"TEAM\",\"POSITION\"],np.max).group(\"TEAM\",np.average).sort(3,descending=True)"
   ]
  }
 ],
 "metadata": {
  "kernelspec": {
   "display_name": "Python 3",
   "language": "python",
   "name": "python3"
  },
  "language_info": {
   "codemirror_mode": {
    "name": "ipython",
    "version": 3
   },
   "file_extension": ".py",
   "mimetype": "text/x-python",
   "name": "python",
   "nbconvert_exporter": "python",
   "pygments_lexer": "ipython3",
   "version": "3.6.5"
  }
 },
 "nbformat": 4,
 "nbformat_minor": 2
}
